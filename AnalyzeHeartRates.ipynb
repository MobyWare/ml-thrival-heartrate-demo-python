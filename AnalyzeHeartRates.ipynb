{
 "cells": [
  {
   "cell_type": "code",
   "execution_count": 1,
   "metadata": {
    "collapsed": true
   },
   "outputs": [],
   "source": [
    "import numpy as np\n",
    "import scipy.signal as signal\n",
    "from sklearn.cluster import AffinityPropagation\n",
    "from sklearn import metrics"
   ]
  },
  {
   "cell_type": "code",
   "execution_count": 2,
   "metadata": {
    "collapsed": true
   },
   "outputs": [],
   "source": [
    "def fix(array):\n",
    "    n = np.array([])\n",
    "    for x in array:\n",
    "        n = np.append(n, np.zeros((x-1)/100.0))\n",
    "        n = np.append(n, [1])\n",
    "    return n\n",
    "\n",
    "def printClusterMetrics(clusterModel, observations):\n",
    "    clusters = clusterModel.fit(observations)\n",
    "    centers = clusters.cluster_centers_indices_\n",
    "    labels = clusters.labels_\n",
    "    if centers is None or len(centers) < 1:\n",
    "        print(\"Clustering algorithm didn't converge.\")\n",
    "    else:        \n",
    "        silhouetteMetric = metrics.silhouette_score(observations, labels, metric='euclidean')\n",
    "        print(\\\n",
    "            'There are {} obervations and {} clusters, with a confidence of {}.\\nThe labels were: {}'.format(observations.shape[0], len(centers), silhouetteMetric, labels))"
   ]
  },
  {
   "cell_type": "code",
   "execution_count": 4,
   "metadata": {
    "collapsed": false
   },
   "outputs": [
    {
     "name": "stderr",
     "output_type": "stream",
     "text": [
      "/anaconda/lib/python2.7/site-packages/ipykernel/__main__.py:4: VisibleDeprecationWarning: using a non-integer number instead of an integer will result in an error in the future\n"
     ]
    }
   ],
   "source": [
    "intervals = np.loadtxt('data/alice1.txt')\n",
    "intervals = intervals[intervals < 2000]\n",
    "f, amp = signal.welch(fix(intervals), 5, scaling='spectrum')\n",
    "\n",
    "l_peak = signal.argrelmax(amp, order=2)[0]\n",
    "h_peak = signal.argrelmin(amp, order=2)[0]\n",
    "\n"
   ]
  },
  {
   "cell_type": "code",
   "execution_count": 6,
   "metadata": {
    "collapsed": false
   },
   "outputs": [
    {
     "data": {
      "text/plain": [
       "array([  6,  13,  40,  46,  53,  69,  75,  78,  81,  90, 104, 112, 119, 122])"
      ]
     },
     "execution_count": 6,
     "metadata": {},
     "output_type": "execute_result"
    }
   ],
   "source": [
    "h_peak"
   ]
  },
  {
   "cell_type": "code",
   "execution_count": 17,
   "metadata": {
    "collapsed": false
   },
   "outputs": [
    {
     "name": "stderr",
     "output_type": "stream",
     "text": [
      "/anaconda/lib/python2.7/site-packages/ipykernel/__main__.py:4: VisibleDeprecationWarning: using a non-integer number instead of an integer will result in an error in the future\n"
     ]
    },
    {
     "name": "stdout",
     "output_type": "stream",
     "text": [
      "1) data/alice1.txt. Both the spectrum: 129 and amplitude: 129 should had have the same length. The currnet # of samples is: 1.\n",
      " Amplitude (1st five): [  7.98532382e-06   3.82506882e-05   3.60430193e-05   2.39591229e-05\n",
      "   1.19178845e-05]\n",
      "2) data/eve1.txt. Both the spectrum: 129 and amplitude: 129 should had have the same length. The currnet # of samples is: 2.\n",
      " Amplitude (1st five): [  1.16838946e-05   5.00514130e-05   9.21424745e-05   5.59767468e-05\n",
      "   2.33567490e-05]\n",
      "3) data/bob1.txt. Both the spectrum: 129 and amplitude: 129 should had have the same length. The currnet # of samples is: 3.\n",
      " Amplitude (1st five): [  7.57211992e-06   3.38645437e-05   3.22890901e-05   1.45455366e-05\n",
      "   7.60879117e-06]\n",
      "4) data/bob2.txt. Both the spectrum: 129 and amplitude: 129 should had have the same length. The currnet # of samples is: 4.\n",
      " Amplitude (1st five): [  6.95133751e-06   3.13453853e-05   3.30547639e-05   1.98414676e-05\n",
      "   1.05409098e-05]\n",
      "5) data/alice2.txt. Both the spectrum: 129 and amplitude: 129 should had have the same length. The currnet # of samples is: 5.\n",
      " Amplitude (1st five): [  8.00344648e-06   3.69770692e-05   4.14496427e-05   2.58753970e-05\n",
      "   1.22117114e-05]\n",
      "There are 5 obervations and 3 clusters, with a confidence of 0.811647523176.\n",
      "The labels were: [0 1 2 2 0]\n"
     ]
    }
   ],
   "source": [
    "samples = None\n",
    "files = ['data/alice1.txt', 'data/eve1.txt', 'data/bob1.txt', 'data/bob2.txt', 'data/alice2.txt']\n",
    "\n",
    "for index, filename in enumerate(files):\n",
    "    intervals = np.loadtxt(filename)\n",
    "    intervals = intervals[intervals < 2000] \n",
    "    frequencySpectrum, amplitude = signal.welch(fix(intervals), 5, scaling='spectrum')\n",
    "    if samples is None:\n",
    "        samples = amplitude[np.newaxis]\n",
    "    else:\n",
    "        samples = np.concatenate((samples, amplitude[np.newaxis]), axis=0)\n",
    "    print (\\\n",
    "        '{}) {}. Both the spectrum: {} and amplitude: {} should had have the same length. The currnet # of samples is: {}.\\n Amplitude (1st five): {}'.\\\n",
    "        format(str(index + 1), filename, len(frequencySpectrum), len(amplitude), samples.shape[0], amplitude[0:5]))\n",
    "\n",
    "printClusterMetrics(AffinityPropagation(max_iter=5000), samples)\n",
    "\n",
    "\n",
    "\n",
    "\n"
   ]
  },
  {
   "cell_type": "code",
   "execution_count": 9,
   "metadata": {
    "collapsed": false
   },
   "outputs": [
    {
     "data": {
      "text/plain": [
       "(1, 129)"
      ]
     },
     "execution_count": 9,
     "metadata": {},
     "output_type": "execute_result"
    }
   ],
   "source": [
    "samples"
   ]
  },
  {
   "cell_type": "code",
   "execution_count": 13,
   "metadata": {
    "collapsed": false
   },
   "outputs": [
    {
     "data": {
      "text/plain": [
       "(2, 3)"
      ]
     },
     "execution_count": 13,
     "metadata": {},
     "output_type": "execute_result"
    }
   ],
   "source": [
    "a = np.array([[1, 2, 3]])\n",
    "b = np.array([[4, 5, 6]])\n",
    "\n",
    "c = np.concatenate((a,b))\n",
    "c\n",
    "c.shape"
   ]
  }
 ],
 "metadata": {
  "kernelspec": {
   "display_name": "Python [Root]",
   "language": "python",
   "name": "Python [Root]"
  },
  "language_info": {
   "codemirror_mode": {
    "name": "ipython",
    "version": 2
   },
   "file_extension": ".py",
   "mimetype": "text/x-python",
   "name": "python",
   "nbconvert_exporter": "python",
   "pygments_lexer": "ipython2",
   "version": "2.7.12"
  }
 },
 "nbformat": 4,
 "nbformat_minor": 0
}
